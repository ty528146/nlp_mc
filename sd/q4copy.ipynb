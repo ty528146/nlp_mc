{
 "cells": [
  {
   "cell_type": "code",
   "execution_count": 1,
   "metadata": {},
   "outputs": [
    {
     "ename": "NameError",
     "evalue": "name 'os' is not defined",
     "output_type": "error",
     "traceback": [
      "\u001b[0;31m---------------------------------------------------------------------------\u001b[0m",
      "\u001b[0;31mNameError\u001b[0m                                 Traceback (most recent call last)",
      "\u001b[0;32m<ipython-input-1-c2b942880ea2>\u001b[0m in \u001b[0;36m<module>\u001b[0;34m()\u001b[0m\n\u001b[1;32m     52\u001b[0m \u001b[0;34m\u001b[0m\u001b[0m\n\u001b[1;32m     53\u001b[0m \u001b[0;32mif\u001b[0m \u001b[0m__name__\u001b[0m\u001b[0;34m==\u001b[0m\u001b[0;34m\"__main__\"\u001b[0m\u001b[0;34m:\u001b[0m\u001b[0;34m\u001b[0m\u001b[0m\n\u001b[0;32m---> 54\u001b[0;31m     \u001b[0mos\u001b[0m\u001b[0;34m.\u001b[0m\u001b[0msystem\u001b[0m\u001b[0;34m(\u001b[0m\u001b[0;34m\"python2.7 count_cfg_freq.py parse_train.dat > cfg.counts\"\u001b[0m\u001b[0;34m)\u001b[0m\u001b[0;34m\u001b[0m\u001b[0m\n\u001b[0m\u001b[1;32m     55\u001b[0m     \u001b[0mcount_file\u001b[0m \u001b[0;34m=\u001b[0m \u001b[0;34m'cfg.counts'\u001b[0m\u001b[0;34m\u001b[0m\u001b[0m\n\u001b[1;32m     56\u001b[0m     \u001b[0mtrain_old\u001b[0m \u001b[0;34m=\u001b[0m \u001b[0;34m'parse_train.dat'\u001b[0m\u001b[0;34m\u001b[0m\u001b[0m\n",
      "\u001b[0;31mNameError\u001b[0m: name 'os' is not defined"
     ]
    }
   ],
   "source": [
    "import json\n",
    "import os\n",
    "def rare_dict(count_file,n):\n",
    "    dict_all = dict()\n",
    "    dict_rare = dict()\n",
    "    try:\n",
    "        file_content = open(count_file,\"r\") \n",
    "        #print file_content.readlines()\n",
    "    except IOError:\n",
    "        print \"no such file exists\"\n",
    "    for line in file_content:#string\n",
    "        each_list = line.strip().split(\" \")#THIS IS A LIST\n",
    "        if each_list[1] == \"UNARYRULE\":\n",
    "            keys = each_list[-1]\n",
    "            value = int(each_list[0])\n",
    "            if keys in dict_all: #dict_all.keys():#this is very slow if use dict_all.keys()\n",
    "                dict_all[keys] += value\n",
    "            else:\n",
    "                dict_all[keys] = value\n",
    "    for i in dict_all:\n",
    "        if dict_all[i] <n:\n",
    "            dict_rare[i] = dict_all[i]\n",
    "    return dict_rare\n",
    "\n",
    "\n",
    "def replace_rare(each_line):#recursive\n",
    "    #terminating condition\n",
    "    if len(each_line) == 2:\n",
    "        if each_line[1] in dict_rare:\n",
    "            each_line[1] = '_RARE_'\n",
    "    elif len(each_line) == 3:\n",
    "        left_child = each_line[1]\n",
    "        right_child = each_line[2]\n",
    "        replace_rare(left_child)\n",
    "        replace_rare(right_child)\n",
    "    return each_line\n",
    "    \n",
    "def read_write_json(train_old,train_new):\n",
    "    #print json.loads(open(train_old).readline())\n",
    "    try:\n",
    "        raw_data = open(train_old,\"r\")\n",
    "    except IOError:\n",
    "        print \"no such file exists\"\n",
    "    with open(train_new,\"w\") as output:\n",
    "        for each_json in raw_data:#each_json str\n",
    "            #print type(json.loads(each_json))#list\n",
    "            each_line = json.loads(each_json)\n",
    "            replaced_line = replace_rare(each_line)\n",
    "            new_line = json.dumps(replaced_line)\n",
    "            print new_line\n",
    "            #new_data.write(\"{}\".format(each_line)+\"\\n\")\n",
    "            output.write(\"%s\\n\" % new_line)\n",
    "\n",
    "if __name__==\"__main__\":\n",
    "    os.system(\"python2.7 count_cfg_freq.py parse_train.dat > cfg.counts\")\n",
    "    count_file = 'cfg.counts'\n",
    "    train_old = 'parse_train.dat'\n",
    "    train_new = \"parse_train.rare.dat\"\n",
    "    n = 5\n",
    "    dict_rare = rare_dict(count_file,n)\n",
    "    read_write_json(train_old,train_new)\n",
    "    os.system(\"python2.7 \"+\"count_cfg_freq.py \"+ train_new+\" > cfg_ne w.counts\")"
   ]
  },
  {
   "cell_type": "code",
   "execution_count": null,
   "metadata": {},
   "outputs": [],
   "source": []
  }
 ],
 "metadata": {
  "kernelspec": {
   "display_name": "Python 2",
   "language": "python",
   "name": "python2"
  },
  "language_info": {
   "codemirror_mode": {
    "name": "ipython",
    "version": 2
   },
   "file_extension": ".py",
   "mimetype": "text/x-python",
   "name": "python",
   "nbconvert_exporter": "python",
   "pygments_lexer": "ipython2",
   "version": "2.7.15"
  }
 },
 "nbformat": 4,
 "nbformat_minor": 2
}
