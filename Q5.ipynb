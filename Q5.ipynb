{
 "cells": [
  {
   "cell_type": "code",
   "execution_count": 1,
   "metadata": {},
   "outputs": [
    {
     "name": "stdout",
     "output_type": "stream",
     "text": [
      "{(1, 2): 2, 'ds': 3}\n"
     ]
    }
   ],
   "source": []
  },
  {
   "cell_type": "code",
   "execution_count": 2,
   "metadata": {},
   "outputs": [
    {
     "name": "stdout",
     "output_type": "stream",
     "text": [
      "{(1, 2): 2, 'ds': 3}\n"
     ]
    }
   ],
   "source": [
    "dict1 = {}\n",
    "set1 = (1,2)\n",
    "dict1[set1] =2\n",
    "dict1['ds'] = 3\n",
    "print dict1"
   ]
  },
  {
   "cell_type": "code",
   "execution_count": 21,
   "metadata": {},
   "outputs": [],
   "source": [
    "def cal_nonterminals(count_rare_file):\n",
    "    nT = {}\n",
    "    try:\n",
    "        count_content = open(count_rare_file)\n",
    "    except:\n",
    "        print \"no such file\"\n",
    "    #########first get all denominator COUNT(X) for each rule X-->YZ OR X-->w#############\n",
    "    for count_line in count_content:\n",
    "        count_list = count_line.strip().split(\" \")\n",
    "        #print count_list\n",
    "        if count_list[1] == \"NONTERMINAL\":\n",
    "            nT[count_list[2]] = count_list[0]\n",
    "    return nT"
   ]
  },
  {
   "cell_type": "code",
   "execution_count": 34,
   "metadata": {},
   "outputs": [],
   "source": [
    "def cal_parameters(count_rare_file):\n",
    "    q = {}\n",
    "    uRule = {}\n",
    "    bRule = {}\n",
    "    word = set()\n",
    "    try:\n",
    "        count_content = open(count_rare_file)\n",
    "    except:\n",
    "        print \"no such file\"\n",
    "    for count_line in count_content:\n",
    "        count_list = count_line.strip().split(\" \")     \n",
    "        #######THIS IS FOR CREATING DICTIONARY FOR UNARY RULE X-->W#######################\n",
    "        #########the denominator COUNT(X) is from dictionary nT###########################\n",
    "        if count_list[1] ==\"UNARYRULE\":\n",
    "            #add the word to word set\n",
    "            word.add(count_list[3])\n",
    "            #this is a binary rule and the key is tuple\n",
    "            #add the parameter for X-->w  with key (X,w)\n",
    "            q[(count_list[2],count_list[3])] = float(count_list[0])/float(nT[count_list[2]])\n",
    "            #add this rule to the unaryrule dictionary\n",
    "            #initialize for each x has a dictionary with different w's\n",
    "            if count_list[2] not in uRule:\n",
    "                uRule[count_list[2]] = {}\n",
    "            if count_list[3] not in uRule[count_list[2]]:\n",
    "                uRule[count_list[2]][count_list[3]] = int(count_list[0])\n",
    "        if count_list[1] == \"BINARYRULE\":\n",
    "            #add the parameter for X-->YZ with key (X,Y,Z)\n",
    "            q[(count_list[2],count_list[3],count_list[4])] = float(count_list[0])/float(nT[count_list[2]])\n",
    "            #add this rule to the biaryrule dictionary\n",
    "            #initialize for each x has a dictionary with different w's\n",
    "            if count_list[2] not in bRule:\n",
    "                bRule[count_list[2]] = {}\n",
    "                subkey = (count_list[3],count_list[4])\n",
    "            if subkey not in bRule[count_list[2]]:\n",
    "                bRule[count_list[2]][subkey] = int(count_list[0])\n",
    "    return q,uRule,bRule,word"
   ]
  },
  {
   "cell_type": "code",
   "execution_count": null,
   "metadata": {},
   "outputs": [],
   "source": [
    "def CKY():\n",
    "    #INITIALIZATION\n",
    "    for i in range"
   ]
  },
  {
   "cell_type": "code",
   "execution_count": 38,
   "metadata": {},
   "outputs": [],
   "source": [
    "count_rare_file = \"cfg_new.counts\"\n",
    "nT = cal_nonterminals(count_rare_file)\n",
    "#print nT"
   ]
  },
  {
   "cell_type": "code",
   "execution_count": 37,
   "metadata": {},
   "outputs": [],
   "source": [
    "q,uRule,bRule,word = cal_parameters(count_rare_file)\n",
    "#print uRule"
   ]
  },
  {
   "cell_type": "code",
   "execution_count": null,
   "metadata": {},
   "outputs": [],
   "source": []
  }
 ],
 "metadata": {
  "kernelspec": {
   "display_name": "Python 2",
   "language": "python",
   "name": "python2"
  },
  "language_info": {
   "codemirror_mode": {
    "name": "ipython",
    "version": 2
   },
   "file_extension": ".py",
   "mimetype": "text/x-python",
   "name": "python",
   "nbconvert_exporter": "python",
   "pygments_lexer": "ipython2",
   "version": "2.7.15"
  }
 },
 "nbformat": 4,
 "nbformat_minor": 2
}
