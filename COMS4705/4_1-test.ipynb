{
 "cells": [
  {
   "cell_type": "code",
   "execution_count": 1,
   "metadata": {
    "scrolled": false
   },
   "outputs": [
    {
     "name": "stdout",
     "output_type": "stream",
     "text": [
      "10001\n",
      "0.001299870013\n"
     ]
    }
   ],
   "source": [
    "#this function calculate the emission parameter\n",
    "def cal_emission(file_content,x_word,y_tag):\n",
    "    count_pair = 0\n",
    "    #better initialize \n",
    "    count_pair = 0\n",
    "    count_y = 0\n",
    "    emission_para = 0\n",
    "    #Looping over a file object\n",
    "    for line in file_content:#type of line is str\n",
    "        each_list =  line.strip().split(\" \")#eachline is a list\n",
    "        #print each_list\n",
    "        if each_list[1] == \"WORDTAG\" and each_list[-1] == x_word and each_list[2] == y_tag:\n",
    "            count_pair = each_list[0]\n",
    "        if y_tag in each_list and each_list[1] == \"WORDTAG\":\n",
    "            count_y += int(each_list[0])\n",
    "    print count_y\n",
    "    #print count_pair\n",
    "    try:\n",
    "        emission_para = float(count_pair)/float(count_y)\n",
    "    except ZeroDivisionError as err:\n",
    "        print err\n",
    "    return emission_para\n",
    "\n",
    "#this function replaces rare words in the original corpus file with _RARE_\n",
    "#n is the number of counts beneath which a word in considered infrequent\n",
    "def replace_rare(count_file,train_old,train_new,n):\n",
    "    dict_all = dict()\n",
    "    dict_rare = dict()\n",
    "    try:\n",
    "        file_content = open(count_file,\"r\") \n",
    "        #print file_content.readlines()\n",
    "    except IOError:\n",
    "        print \"no such file exists\"\n",
    "        \n",
    "    try:\n",
    "        raw_data = open(train_old,\"r\") \n",
    "    except IOError:\n",
    "        print \"no such file exists\"\n",
    "\n",
    "    try:\n",
    "        new_data = open(train_new,\"w\") \n",
    "    except IOError:\n",
    "        print \"no such file exists\"\n",
    "        \n",
    "    for line in file_content:\n",
    "        each_list = line.strip().split(\" \")\n",
    "        if each_list[1] == \"WORDTAG\":\n",
    "            keys = each_list[-1]\n",
    "            value = int(each_list[0])\n",
    "            if keys in dict_all: #dict_all.keys():#this is very slow if use dict_all.keys()\n",
    "                dict_all[keys] += value\n",
    "            else:\n",
    "                dict_all[keys] = value\n",
    "    for i in dict_all:\n",
    "        if dict_all[i] <n:\n",
    "            dict_rare[i] = dict_all[i]\n",
    "            \n",
    "    for raw_line in raw_data:\n",
    "        raw_list = raw_line.strip().split(\" \")\n",
    "        if raw_list[0] in dict_rare:\n",
    "            raw_line = raw_line.replace(raw_list[0],\"_RARE_\")#cannot directly write raw_line.replace(raw_list[0],\"_RARE_\")\n",
    "        new_data.write(raw_line)\n",
    "           # raw_list[0] = \"_RARE_\"\n",
    "        #new_data.write(\" \".join(raw_list)+\"\\n\")\n",
    "        \n",
    "if __name__==\"__main__\":\n",
    "    try:\n",
    "        file_content = open(\"ner.counts\",\"r\") \n",
    "    except IOError:\n",
    "        print \"no such file exists\"\n",
    "    #test case\n",
    "    y_tag = \"I-ORG\"\n",
    "    x_word = \"University\"\n",
    "    emission_para = cal_emission(file_content,x_word,y_tag)\n",
    "    print emission_para\n",
    "    #test case  \n",
    "    train_old = \"ner_train.dat\"\n",
    "    train_new = \"ner_train_new.dat\"\n",
    "    count_file = \"ner.counts\"\n",
    "    replace_rare(count_file,train_old,train_new,5)"
   ]
  },
  {
   "cell_type": "code",
   "execution_count": null,
   "metadata": {},
   "outputs": [],
   "source": []
  },
  {
   "cell_type": "code",
   "execution_count": null,
   "metadata": {},
   "outputs": [],
   "source": []
  }
 ],
 "metadata": {
  "kernelspec": {
   "display_name": "Python 2",
   "language": "python",
   "name": "python2"
  },
  "language_info": {
   "codemirror_mode": {
    "name": "ipython",
    "version": 2
   },
   "file_extension": ".py",
   "mimetype": "text/x-python",
   "name": "python",
   "nbconvert_exporter": "python",
   "pygments_lexer": "ipython2",
   "version": "2.7.15"
  }
 },
 "nbformat": 4,
 "nbformat_minor": 2
}
