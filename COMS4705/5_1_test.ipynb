{
 "cells": [
  {
   "cell_type": "code",
   "execution_count": 77,
   "metadata": {},
   "outputs": [],
   "source": [
    "import numpy as np\n",
    "def calcuLog(a,b):\n",
    "    try:\n",
    "        result = np.log(float(a)/float(b))\n",
    "    except:\n",
    "        print \"divided by 0\"\n",
    "    return result\n",
    "\n",
    "def createNgramDict(train_list):\n",
    "    trainDict = {}\n",
    "    train_key = ' '.join(train_list[2:])\n",
    "    train_value = train_list[0]\n",
    "    return train_key,train_value\n",
    "\n",
    "#######cannot add trainDict1[train_key] = int(train_value) and return the whole dict because dict is stillbuiding \n",
    "####first buiding three dictionaries for 1 gram,bigram and trigram for faster speed ###################\n",
    "#####the q parameter is calculated by trigram divided by bigram########################################\n",
    "\n",
    "def calQparameter(trigram_file,input_file,output_file):\n",
    "    try:\n",
    "        train_data = open(input_file,'r')\n",
    "    except IOException as err:\n",
    "        print \"no such file\"\n",
    "    try:\n",
    "        trigram_data = open(trigram_file,'r')\n",
    "    except:\n",
    "        print \"no such file\"\n",
    "    try:\n",
    "        output_data = open(output_file,'w')\n",
    "    except:\n",
    "        print \"no such file!\"\n",
    "    trainDict1 = {}\n",
    "    trainDict2 = {}\n",
    "    trainDict3 = {}\n",
    "    for train_sentence in train_data:\n",
    "        train_list = train_sentence.strip().split(\" \")\n",
    "        if train_list[1] ==\"1-GRAM\":\n",
    "            train_key,train_value = createNgramDict(train_list)\n",
    "            trainDict1[train_key] = int(train_value)\n",
    "        elif train_list[1] == \"2-GRAM\":\n",
    "            train_key,train_value = createNgramDict(train_list)\n",
    "            trainDict2[train_key] = int(train_value)\n",
    "        elif train_list[1] == \"3-GRAM\":\n",
    "            train_key,train_value = createNgramDict(train_list)\n",
    "            trainDict3[train_key] = int(train_value)\n",
    "    for trigram_raw in trigram_data:\n",
    "        trigram = trigram_raw.strip()\n",
    "        bigram = ' '.join(trigram.split(\" \")[0:2])\n",
    "        if trigram_raw == \"\\n\":\n",
    "            output = \"\\n\"\n",
    "        else:\n",
    "            try:\n",
    "                count_tri = trainDict3[trigram]\n",
    "            except KeyError:\n",
    "                count_tri = 0\n",
    "            try:\n",
    "                count_bi = trainDict2[bigram]\n",
    "            except KeyError:\n",
    "                count_bi = 0\n",
    "            if count_bi != 0:\n",
    "                result = calcuLog(count_tri,count_bi)\n",
    "            else:\n",
    "                result = '+inf'\n",
    "            output = trigram +\" \"+ str(count_tri)+\" \"+str(count_bi)\n",
    "            output = trigram +\" \"+ str(result)+\"\\n\"\n",
    "        output_data.write(output)\n",
    "        #print output\n",
    "    '''print trainDict1    \n",
    "    print \"---------\"\n",
    "    print trainDict2\n",
    "    print \"---------\"\n",
    "    print trainDict3'''\n",
    "    "
   ]
  },
  {
   "cell_type": "code",
   "execution_count": 78,
   "metadata": {},
   "outputs": [],
   "source": [
    "if __name__ == \"__main__\":\n",
    "    input_file = \"ner_new.counts\"   \n",
    "    trigram_file = \"trigrams.txt\"\n",
    "    output_file = \"5_1.txt\"\n",
    "    calQparameter(trigram_file,input_file,output_file)"
   ]
  },
  {
   "cell_type": "code",
   "execution_count": 53,
   "metadata": {},
   "outputs": [
    {
     "data": {
      "text/plain": [
       "[1]"
      ]
     },
     "execution_count": 53,
     "metadata": {},
     "output_type": "execute_result"
    }
   ],
   "source": [
    "'''list1 = [1,2,3]\n",
    "list1[0:1]'''\n",
    "'''if train_list[1] ==\"1-GRAM\":\n",
    "            train_key = ' '.join(train_list[2:])\n",
    "            train_value = train_list[0]\n",
    "            trainDict1[train_key] = int(train_value)\n",
    "        elif train_list[1] == \"2-GRAM\":\n",
    "            train_key = ' '.join(train_list[2:])\n",
    "            train_value = train_list[0]\n",
    "            trainDict2[train_key] = int(train_value)\n",
    "        elif train_list[1] == \"3-GRAM\":\n",
    "            train_key = ' '.join(train_list[2:])\n",
    "            train_value = train_list[0]\n",
    "            trainDict3[train_key] = int(train_value)'''\n",
    "\n",
    "'''try:\n",
    "    dict1 = {'1':2,'3':4}\n",
    "    dict1['4']\n",
    "except KeyError:\n",
    "    print 1\n",
    "    '''"
   ]
  },
  {
   "cell_type": "code",
   "execution_count": null,
   "metadata": {},
   "outputs": [],
   "source": []
  }
 ],
 "metadata": {
  "kernelspec": {
   "display_name": "Python 2",
   "language": "python",
   "name": "python2"
  },
  "language_info": {
   "codemirror_mode": {
    "name": "ipython",
    "version": 2
   },
   "file_extension": ".py",
   "mimetype": "text/x-python",
   "name": "python",
   "nbconvert_exporter": "python",
   "pygments_lexer": "ipython2",
   "version": "2.7.15"
  }
 },
 "nbformat": 4,
 "nbformat_minor": 2
}
