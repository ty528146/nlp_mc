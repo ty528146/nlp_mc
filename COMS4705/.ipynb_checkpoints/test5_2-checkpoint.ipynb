{
 "cells": [
  {
   "cell_type": "code",
   "execution_count": 2,
   "metadata": {},
   "outputs": [
    {
     "ename": "ImportError",
     "evalue": "No module named tagger_utils.transaction",
     "output_type": "error",
     "traceback": [
      "\u001b[0;31m---------------------------------------------------------------------------\u001b[0m",
      "\u001b[0;31mImportError\u001b[0m                               Traceback (most recent call last)",
      "\u001b[0;32m<ipython-input-2-9da6a8f31584>\u001b[0m in \u001b[0;36m<module>\u001b[0;34m()\u001b[0m\n\u001b[1;32m      2\u001b[0m \u001b[0;32mimport\u001b[0m \u001b[0mos\u001b[0m\u001b[0;34m\u001b[0m\u001b[0m\n\u001b[1;32m      3\u001b[0m \u001b[0;31m#from tagger_utils.emission import Emission\u001b[0m\u001b[0;34m\u001b[0m\u001b[0;34m\u001b[0m\u001b[0m\n\u001b[0;32m----> 4\u001b[0;31m \u001b[0;32mfrom\u001b[0m \u001b[0mtagger_utils\u001b[0m\u001b[0;34m.\u001b[0m\u001b[0mtransaction\u001b[0m \u001b[0;32mimport\u001b[0m \u001b[0mTransactor\u001b[0m\u001b[0;34m\u001b[0m\u001b[0m\n\u001b[0m\u001b[1;32m      5\u001b[0m \u001b[0;32mfrom\u001b[0m \u001b[0mtagger_utils\u001b[0m\u001b[0;34m.\u001b[0m\u001b[0mviterbi_model\u001b[0m \u001b[0;32mimport\u001b[0m \u001b[0mViterbi\u001b[0m\u001b[0;34m\u001b[0m\u001b[0m\n\u001b[1;32m      6\u001b[0m \u001b[0;34m\u001b[0m\u001b[0m\n",
      "\u001b[0;31mImportError\u001b[0m: No module named tagger_utils.transaction"
     ]
    }
   ],
   "source": [
    "#! /usr/bin/python\n",
    "import os\n",
    "from tagger_utils.emission import Emission\n",
    "from tagger_utils.transaction import Transactor\n",
    "from tagger_utils.viterbi_model import Viterbi\n",
    "\n",
    "if __name__ == \"__main__\":\n",
    "    # Produces 5_2.txt, the tagged ner_dev.dat data in the same format as\n",
    "    # 4_2.txt but tagged using the Viterbi tagger\n",
    "    count_file_name = \"ner_rare.counts\"\n",
    "    train_file_name = \"ner_train_rare.dat\"\n",
    "    print \"--Executing: python count_freqs.py {train} > {cnt}\".format(train=train_file_name, cnt=count_file_name)\n",
    "    os.system(\"python count_freqs.py {train} > {cnt}\".format(train=train_file_name, cnt=count_file_name))\n",
    "    transactor = Transactor(count_file_name)\n",
    "    emission = Emission(count_file_name)\n",
    "    print \"--Input file: ner_dev.dat\\n--Output file: 5_2hahhah.txt\"\n",
    "    print \"--Doing\"\n",
    "    viterbi_obj = Viterbi(\"ner_dev.dat\", file(\"5_2.txt\", \"w\"), transactor, emission)\n",
    "    viterbi_obj.run()\n",
    "    print \"--Done\"\n"
   ]
  },
  {
   "cell_type": "code",
   "execution_count": null,
   "metadata": {},
   "outputs": [],
   "source": []
  }
 ],
 "metadata": {
  "kernelspec": {
   "display_name": "Python 2",
   "language": "python",
   "name": "python2"
  },
  "language_info": {
   "codemirror_mode": {
    "name": "ipython",
    "version": 2
   },
   "file_extension": ".py",
   "mimetype": "text/x-python",
   "name": "python",
   "nbconvert_exporter": "python",
   "pygments_lexer": "ipython2",
   "version": "2.7.15"
  }
 },
 "nbformat": 4,
 "nbformat_minor": 2
}
