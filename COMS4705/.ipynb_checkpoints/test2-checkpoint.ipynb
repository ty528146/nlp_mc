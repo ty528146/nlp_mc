{
 "cells": [
  {
   "cell_type": "code",
   "execution_count": 31,
   "metadata": {},
   "outputs": [],
   "source": [
    "import numpy as np\n",
    "\n",
    "def cal_emission(count_pair,count_y):\n",
    "    try:\n",
    "        emission_para = np.log2(float(count_pair)/float(count_y))\n",
    "    except:\n",
    "        pass #return \"divide by zero\"\n",
    "    return emission_para"
   ]
  },
  {
   "cell_type": "code",
   "execution_count": 32,
   "metadata": {},
   "outputs": [
    {
     "name": "stdout",
     "output_type": "stream",
     "text": [
      "-inf\n"
     ]
    },
    {
     "name": "stderr",
     "output_type": "stream",
     "text": [
      "/Users/yt2583columbia.edu/anaconda3/envs/Python27/lib/python2.7/site-packages/ipykernel_launcher.py:3: RuntimeWarning: divide by zero encountered in log2\n",
      "  This is separate from the ipykernel package so we can avoid doing imports until\n"
     ]
    }
   ],
   "source": [
    "a = cal_emission(0,2)\n"
   ]
  },
  {
   "cell_type": "code",
   "execution_count": 50,
   "metadata": {},
   "outputs": [],
   "source": [
    "def findTagDict(count_file):\n",
    "    dictTag = dict()\n",
    "    try:\n",
    "        count_content = open(count_file)\n",
    "    except:\n",
    "        print \"no such file\"\n",
    "    for count_line in count_content:\n",
    "        count_list = count_line.strip().split(\" \")\n",
    "        if count_list[1] == \"1-GRAM\":\n",
    "            if count_list[-1] not in dictTag:\n",
    "                dictTag[count_list[-1]] = count_list[0]\n",
    "            else:\n",
    "                dictTag[count_list[-1]] += count_list[0]\n",
    "    return dictTag\n",
    "        \n",
    "    "
   ]
  },
  {
   "cell_type": "code",
   "execution_count": null,
   "metadata": {},
   "outputs": [],
   "source": [
    "def findWordDict(count_file):\n",
    "    dictWord = dict()\n",
    "    try:\n",
    "        count_content = open(count_file)\n",
    "    except:\n",
    "        print \"no such file\"\n",
    "    for count_line in count_content:\n",
    "        count_list = count_line.strip().split(\" \")\n",
    "        if count_list[1] ==\"WORDTAG\":\n",
    "            if count_list[-1] not in \n",
    "            "
   ]
  },
  {
   "cell_type": "code",
   "execution_count": 52,
   "metadata": {},
   "outputs": [
    {
     "ename": "SyntaxError",
     "evalue": "can't delete function call (<ipython-input-52-f7407f993461>, line 2)",
     "output_type": "error",
     "traceback": [
      "\u001b[0;36m  File \u001b[0;32m\"<ipython-input-52-f7407f993461>\"\u001b[0;36m, line \u001b[0;32m2\u001b[0m\n\u001b[0;31m    del(dict())\u001b[0m\n\u001b[0;31mSyntaxError\u001b[0m\u001b[0;31m:\u001b[0m can't delete function call\n"
     ]
    }
   ],
   "source": [
    "count_file = \"ner_new.counts\"\n",
    "dictTag = findTagDict(count_file)"
   ]
  },
  {
   "cell_type": "code",
   "execution_count": 15,
   "metadata": {},
   "outputs": [
    {
     "data": {
      "text/plain": [
       "3.0"
      ]
     },
     "execution_count": 15,
     "metadata": {},
     "output_type": "execute_result"
    }
   ],
   "source": []
  },
  {
   "cell_type": "code",
   "execution_count": 44,
   "metadata": {},
   "outputs": [
    {
     "data": {
      "text/plain": [
       "[1, 2]"
      ]
     },
     "execution_count": 44,
     "metadata": {},
     "output_type": "execute_result"
    }
   ],
   "source": [
    "dict = {'haha':[1,2]}\n",
    "dict['haha']"
   ]
  },
  {
   "cell_type": "code",
   "execution_count": null,
   "metadata": {},
   "outputs": [],
   "source": []
  }
 ],
 "metadata": {
  "kernelspec": {
   "display_name": "Python 2",
   "language": "python",
   "name": "python2"
  },
  "language_info": {
   "codemirror_mode": {
    "name": "ipython",
    "version": 2
   },
   "file_extension": ".py",
   "mimetype": "text/x-python",
   "name": "python",
   "nbconvert_exporter": "python",
   "pygments_lexer": "ipython2",
   "version": "2.7.15"
  }
 },
 "nbformat": 4,
 "nbformat_minor": 2
}
