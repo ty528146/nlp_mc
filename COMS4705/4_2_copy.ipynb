{
 "cells": [
  {
   "cell_type": "code",
   "execution_count": 3,
   "metadata": {},
   "outputs": [],
   "source": [
    "import numpy as np\n",
    "#this function calculates the emission parameter\n",
    "def cal_emission(count_pair,count_y):\n",
    "    try:\n",
    "        emission_para = (float(count_pair)/float(count_y))\n",
    "    except:\n",
    "        pass #return \"divide by zero\"\n",
    "    return emission_para\n",
    "\n",
    "#this function finds the tag and the times it appears and save it in a dictionary\n",
    "def findTagDict(count_file):\n",
    "    #dictTag = {}#dict()\n",
    "    try:\n",
    "        count_content = open(count_file)\n",
    "    except:\n",
    "        print \"no such file\"\n",
    "    for count_line in count_content:\n",
    "        count_list = count_line.strip().split(\" \")\n",
    "        if count_list[1] == \"1-GRAM\":\n",
    "            if count_list[-1] not in dictTag:\n",
    "                dictTag[count_list[-1]] = int(count_list[0])\n",
    "            else:\n",
    "                dictTag[count_list[-1]] += int(count_list[0])\n",
    "    return dictTag\n",
    "\n",
    "#this functin finds the word and the frequency of a word tagged aby a specific tag\n",
    "def findWordDict(count_file):\n",
    "    dictWord = {}#dict() or will pop dict() not callable error\n",
    "    try:\n",
    "        count_content = open(count_file)\n",
    "    except:\n",
    "        print \"no such file\"\n",
    "    for count_line in count_content:\n",
    "        count_list = count_line.strip().split(\" \")\n",
    "        word = count_list[-1]\n",
    "        tag = count_list[2]\n",
    "        number = count_list[0]\n",
    "        if count_list[1] ==\"WORDTAG\":\n",
    "            #initialize\n",
    "            if word not in dictWord:\n",
    "                dictWord[word] = {}  \n",
    "            #add element\n",
    "            if tag not in dictWord[word]:\n",
    "                dictWord[word][tag] = int(number)\n",
    "            else:\n",
    "                dictWord[word][tag] += int(number)\n",
    "            \n",
    "    return dictWord\n",
    "           \n",
    "#this function finds the maximum emission for the tage \n",
    "#and return a dictionary which values are lists\n",
    "#and this dictionary stores the most possible word tag for each word\n",
    "def maxEmisssion(dictWord,dictTag):\n",
    "    dictMax = {}\n",
    "    for word in dictWord:\n",
    "        max_ratio = 0\n",
    "        max_tag = \"\"\n",
    "        for tag in dictWord[word]:\n",
    "            dictWord[word][tag] = cal_emission(dictWord[word][tag],dictTag[tag])\n",
    "            if dictWord[word][tag] >= max_ratio:\n",
    "                max_ratio = dictWord[word][tag]\n",
    "                max_tag = tag\n",
    "                max_log =  np.log2(max_ratio)\n",
    "            else:\n",
    "                max_ratio = max_ratio\n",
    "                max_tag = max_tag\n",
    "                max_log =  np.log2(max_ratio)\n",
    "        dictMax[word] = [max_tag,max_log]\n",
    "    #print dictWord\n",
    "    return dictMax\n",
    "\n",
    "\n",
    "#this function makes prediction for the words in test data and save an output in txt\n",
    "def prediction(test_input,output_file):\n",
    "    try:\n",
    "        test_data = open(test_input)\n",
    "    except:\n",
    "        print \"no such file\"\n",
    "    try:\n",
    "        output_data = open(output_file,'w')\n",
    "    except:\n",
    "        print \"no such file\"\n",
    "    for test_line in test_data:\n",
    "        if test_line == \"\\n\":\n",
    "            output = \"\\n\"\n",
    "        #print test_line.split(\" \")\n",
    "        elif test_line.strip() not in dictMax:\n",
    "            original_word = test_line.strip()\n",
    "            value = dictMax[\"_RARE_\"][0]+\" \"+str(dictMax[\"_RARE_\"][1])\n",
    "            output = original_word + \" \"+ value +\"\\n\"\n",
    "        else:#lif test_line.strip() in dictMax:\n",
    "            original_word = test_line.strip()\n",
    "            value = dictMax[original_word][0]+\" \"+str(dictMax[original_word][1])\n",
    "            output = original_word + \" \"+ value +\"\\n\"\n",
    "        output_data.write(output)\n",
    "        #print output"
   ]
  },
  {
   "cell_type": "code",
   "execution_count": 4,
   "metadata": {},
   "outputs": [
    {
     "ename": "KeyError",
     "evalue": "'_RARE_'",
     "output_type": "error",
     "traceback": [
      "\u001b[0;31m---------------------------------------------------------------------------\u001b[0m",
      "\u001b[0;31mKeyError\u001b[0m                                  Traceback (most recent call last)",
      "\u001b[0;32m<ipython-input-4-cd0c2fff5974>\u001b[0m in \u001b[0;36m<module>\u001b[0;34m()\u001b[0m\n\u001b[1;32m      9\u001b[0m     \u001b[0mdictWord\u001b[0m \u001b[0;34m=\u001b[0m \u001b[0mfindWordDict\u001b[0m\u001b[0;34m(\u001b[0m\u001b[0mcount_file\u001b[0m\u001b[0;34m)\u001b[0m\u001b[0;34m\u001b[0m\u001b[0m\n\u001b[1;32m     10\u001b[0m     \u001b[0mdictMax\u001b[0m \u001b[0;34m=\u001b[0m \u001b[0mmaxEmisssion\u001b[0m\u001b[0;34m(\u001b[0m\u001b[0mdictWord\u001b[0m\u001b[0;34m,\u001b[0m\u001b[0mdictTag\u001b[0m\u001b[0;34m)\u001b[0m\u001b[0;34m\u001b[0m\u001b[0m\n\u001b[0;32m---> 11\u001b[0;31m     \u001b[0mprediction\u001b[0m\u001b[0;34m(\u001b[0m\u001b[0mtest_input\u001b[0m\u001b[0;34m,\u001b[0m\u001b[0moutput\u001b[0m\u001b[0;34m)\u001b[0m\u001b[0;34m\u001b[0m\u001b[0m\n\u001b[0m\u001b[1;32m     12\u001b[0m     \u001b[0;32mprint\u001b[0m \u001b[0mdictMax\u001b[0m\u001b[0;34m\u001b[0m\u001b[0m\n",
      "\u001b[0;32m<ipython-input-3-2f73d09b585e>\u001b[0m in \u001b[0;36mprediction\u001b[0;34m(test_input, output_file)\u001b[0m\n\u001b[1;32m     87\u001b[0m         \u001b[0;32melif\u001b[0m \u001b[0mtest_line\u001b[0m\u001b[0;34m.\u001b[0m\u001b[0mstrip\u001b[0m\u001b[0;34m(\u001b[0m\u001b[0;34m)\u001b[0m \u001b[0;32mnot\u001b[0m \u001b[0;32min\u001b[0m \u001b[0mdictMax\u001b[0m\u001b[0;34m:\u001b[0m\u001b[0;34m\u001b[0m\u001b[0m\n\u001b[1;32m     88\u001b[0m             \u001b[0moriginal_word\u001b[0m \u001b[0;34m=\u001b[0m \u001b[0mtest_line\u001b[0m\u001b[0;34m.\u001b[0m\u001b[0mstrip\u001b[0m\u001b[0;34m(\u001b[0m\u001b[0;34m)\u001b[0m\u001b[0;34m\u001b[0m\u001b[0m\n\u001b[0;32m---> 89\u001b[0;31m             \u001b[0mvalue\u001b[0m \u001b[0;34m=\u001b[0m \u001b[0mdictMax\u001b[0m\u001b[0;34m[\u001b[0m\u001b[0;34m\"_RARE_\"\u001b[0m\u001b[0;34m]\u001b[0m\u001b[0;34m[\u001b[0m\u001b[0;36m0\u001b[0m\u001b[0;34m]\u001b[0m\u001b[0;34m+\u001b[0m\u001b[0;34m\" \"\u001b[0m\u001b[0;34m+\u001b[0m\u001b[0mstr\u001b[0m\u001b[0;34m(\u001b[0m\u001b[0mdictMax\u001b[0m\u001b[0;34m[\u001b[0m\u001b[0;34m\"_RARE_\"\u001b[0m\u001b[0;34m]\u001b[0m\u001b[0;34m[\u001b[0m\u001b[0;36m1\u001b[0m\u001b[0;34m]\u001b[0m\u001b[0;34m)\u001b[0m\u001b[0;34m\u001b[0m\u001b[0m\n\u001b[0m\u001b[1;32m     90\u001b[0m             \u001b[0moutput\u001b[0m \u001b[0;34m=\u001b[0m \u001b[0moriginal_word\u001b[0m \u001b[0;34m+\u001b[0m \u001b[0;34m\" \"\u001b[0m\u001b[0;34m+\u001b[0m \u001b[0mvalue\u001b[0m \u001b[0;34m+\u001b[0m\u001b[0;34m\"\\n\"\u001b[0m\u001b[0;34m\u001b[0m\u001b[0m\n\u001b[1;32m     91\u001b[0m         \u001b[0;32melse\u001b[0m\u001b[0;34m:\u001b[0m\u001b[0;31m#lif test_line.strip() in dictMax:\u001b[0m\u001b[0;34m\u001b[0m\u001b[0m\n",
      "\u001b[0;31mKeyError\u001b[0m: '_RARE_'"
     ]
    }
   ],
   "source": [
    "if __name__==\"__main__\":\n",
    "    #input and parameters\n",
    "    count_file = \"ner_new.counts\"\n",
    "    test_input = \"ner_dev.dat\"\n",
    "    output = \"4_2_test.txt\"\n",
    "    dictTag = {}\n",
    "    dictTag = findTagDict(count_file)\n",
    "    dictWord = {}\n",
    "    dictWord = findWordDict(count_file)\n",
    "    dictMax = maxEmisssion(dictWord,dictTag)\n",
    "    prediction(test_input,output)\n",
    "    print dictMax\n"
   ]
  },
  {
   "cell_type": "code",
   "execution_count": 58,
   "metadata": {},
   "outputs": [
    {
     "name": "stdout",
     "output_type": "stream",
     "text": [
      "{}\n"
     ]
    }
   ],
   "source": [
    "    print dictMax"
   ]
  },
  {
   "cell_type": "code",
   "execution_count": null,
   "metadata": {},
   "outputs": [],
   "source": []
  }
 ],
 "metadata": {
  "kernelspec": {
   "display_name": "Python 2",
   "language": "python",
   "name": "python2"
  },
  "language_info": {
   "codemirror_mode": {
    "name": "ipython",
    "version": 2
   },
   "file_extension": ".py",
   "mimetype": "text/x-python",
   "name": "python",
   "nbconvert_exporter": "python",
   "pygments_lexer": "ipython2",
   "version": "2.7.15"
  }
 },
 "nbformat": 4,
 "nbformat_minor": 2
}
