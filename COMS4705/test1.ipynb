{
 "cells": [
  {
   "cell_type": "code",
   "execution_count": 65,
   "metadata": {},
   "outputs": [],
   "source": [
    "import os"
   ]
  },
  {
   "cell_type": "code",
   "execution_count": 2,
   "metadata": {},
   "outputs": [],
   "source": [
    "#os.system(\"python count_freqs.py  ner_train.dat > ner.counts\")"
   ]
  },
  {
   "cell_type": "code",
   "execution_count": 67,
   "metadata": {
    "scrolled": false
   },
   "outputs": [],
   "source": [
    "#this function calculate the emission parameter\n",
    "def cal_emission(file_content,x_word,y_tag):\n",
    "    count_pair = 0\n",
    "    #better initialize \n",
    "    count_pair = 0\n",
    "    count_y = 0\n",
    "    emission_para = 0\n",
    "    #Looping over a file object\n",
    "    for line in file_content:#type of line is str\n",
    "        each_list =  line.strip().split(\" \")#eachline is a list\n",
    "        #print each_list\n",
    "        if each_list[1] == \"WORDTAG\" and each_list[-1] == x_word and each_list[2] == y_tag:\n",
    "            count_pair = each_list[0]\n",
    "        if y_tag in each_list:\n",
    "            count_y += int(each_list[0])\n",
    "        try:\n",
    "            emission_para = float(count_pair)/float(count_y)\n",
    "        except ZeroDivisionError as err:\n",
    "            print err\n",
    "    return emission_para"
   ]
  },
  {
   "cell_type": "code",
   "execution_count": 7,
   "metadata": {},
   "outputs": [],
   "source": [
    "\"\"\"\n",
    "    this function replaces rare words in the original corpus file with _RARE_\n",
    "\"\"\"\n",
    "try:\n",
    "    file_content = open(\"ner.counts\",\"r\") \n",
    "    #print file_content.readlines()\n",
    "except IOError:\n",
    "    print \"no such file exists\"\n",
    "    "
   ]
  },
  {
   "cell_type": "code",
   "execution_count": 5,
   "metadata": {},
   "outputs": [
    {
     "data": {
      "text/plain": [
       "'dict_rare = dict()\\ndict_rare[\"hah\"] = 0\\nprint dict_rare.keys()\\nfor each_item in dict_rare:\\n    print each_item#iterate through keys'"
      ]
     },
     "execution_count": 5,
     "metadata": {},
     "output_type": "execute_result"
    }
   ],
   "source": [
    "'''dict_rare = dict()\n",
    "dict_rare[\"hah\"] = 0\n",
    "print dict_rare.keys()\n",
    "for each_item in dict_rare:\n",
    "    print each_item#iterate through keys'''"
   ]
  },
  {
   "cell_type": "code",
   "execution_count": 38,
   "metadata": {},
   "outputs": [
    {
     "data": {
      "text/plain": [
       "'for raw_line in raw_data:\\n    each_raw = raw_line\\n    each_raw_list = raw_line.strip().split(\" \")\\n    if each_raw[0] in dict_rare.keys():\\n        each_raw.replace(each_raw[0],\"_RARE_\")\\n    print each_raw'"
      ]
     },
     "execution_count": 38,
     "metadata": {},
     "output_type": "execute_result"
    }
   ],
   "source": [
    "def replace_rare(count_file,train_old,train_new)\n",
    "    dict_all = dict()\n",
    "    dict_rare = dict()\n",
    "    all_list = []\n",
    "    word_list = []\n",
    "\n",
    "    try:\n",
    "        file_content = open(count_file,\"r\") \n",
    "        #print file_content.readlines()\n",
    "    except IOError:\n",
    "        print \"no such file exists\"\n",
    "\n",
    "\n",
    "    try:\n",
    "        raw_data = open(train_old,\"r\") \n",
    "    except IOError:\n",
    "        print \"no such file exists\"\n",
    "\n",
    "    try:\n",
    "        new_data = open(train_new,\"w\") \n",
    "    except IOError:\n",
    "        print \"no such file exists\"\n",
    "\n",
    "    for line in file_content:\n",
    "        each_list = line.strip().split(\" \")\n",
    "        if each_list[1] == \"WORDTAG\":\n",
    "            keys = each_list[-1]\n",
    "            value = int(each_list[0])\n",
    "            if keys in dict_all.keys():\n",
    "                dict_all[keys] += value\n",
    "            else:\n",
    "                dict_all[keys] = value\n",
    "    for i in dict_all:\n",
    "        if dict_all[i] <5:\n",
    "            dict_rare[i] = dict_all[i]\n",
    "\n",
    "    for raw_line in raw_data:\n",
    "        raw_list = raw_line.strip().split(\" \")\n",
    "        if raw_list[0] in dict_rare.keys():\n",
    "            raw_list[0] = \"_RARE_\"\n",
    "        new_data.write(' '.join(raw_list))"
   ]
  },
  {
   "cell_type": "code",
   "execution_count": null,
   "metadata": {},
   "outputs": [],
   "source": [
    "if __name__==\"__main__\":\n",
    "    try:\n",
    "        file_content = open(\"ner.counts\",\"r\") \n",
    "        #print file_content.readlines()\n",
    "    except IOError:\n",
    "        print \"no such file exists\"\n",
    "    y_tag = \"I-PER\"\n",
    "    x_word = \"Solano\"\n",
    "    emission_para = cal_emission(file_content,x_word,y_tag)\n",
    "    train_old = \"ner_train.dat\"\n",
    "    train_new = \"ner_train_new.dat\"\n",
    "    count_file = \"ner.counts\"\n",
    "\n"
   ]
  },
  {
   "cell_type": "code",
   "execution_count": null,
   "metadata": {},
   "outputs": [],
   "source": []
  }
 ],
 "metadata": {
  "kernelspec": {
   "display_name": "Python 2",
   "language": "python",
   "name": "python2"
  },
  "language_info": {
   "codemirror_mode": {
    "name": "ipython",
    "version": 2
   },
   "file_extension": ".py",
   "mimetype": "text/x-python",
   "name": "python",
   "nbconvert_exporter": "python",
   "pygments_lexer": "ipython2",
   "version": "2.7.15"
  }
 },
 "nbformat": 4,
 "nbformat_minor": 2
}
