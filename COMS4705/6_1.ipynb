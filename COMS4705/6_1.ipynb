{
 "cells": [
  {
   "cell_type": "code",
   "execution_count": 2,
   "metadata": {},
   "outputs": [],
   "source": [
    "import re\n",
    "import os\n",
    "\n",
    "#this function replaces rare words in the original corpus file with _RARE_\n",
    "#n is the number of counts beneath which a word in considered infrequent\n",
    "def genDict(count_file,n):\n",
    "    dict_all = dict()\n",
    "    dict_rare = dict()\n",
    "    try:\n",
    "        file_content = open(count_file,\"r\") \n",
    "        #print file_content.readlines()\n",
    "    except IOError:\n",
    "        print \"no such file exists\"\n",
    "    for line in file_content:\n",
    "        each_list = line.strip().split(\" \")\n",
    "        if each_list[1] == \"WORDTAG\":\n",
    "            keys = each_list[-1]\n",
    "            value = int(each_list[0])\n",
    "            if keys in dict_all: #dict_all.keys():#this is very slow if use dict_all.keys()\n",
    "                dict_all[keys] += value\n",
    "            else:\n",
    "                dict_all[keys] = value\n",
    "    for i in dict_all:\n",
    "        if dict_all[i] <n:\n",
    "            dict_rare[i] = dict_all[i]\n",
    "    return dict_rare        \n",
    "\n",
    "def replace_rare(train_old,train_new):\n",
    "    try:\n",
    "        raw_data = open(train_old,\"r\") \n",
    "    except IOError:\n",
    "        print \"no such file exists\"\n",
    "\n",
    "    try:\n",
    "        new_data = open(train_new,\"w\") \n",
    "    except IOError:\n",
    "        print \"no such file exists\"\n",
    "    pattern1 = r\"\\b[\\d\\.\\-\\\"\\'\\,\\?]*\\b\"\n",
    "    for raw_line in raw_data:\n",
    "        raw_list = raw_line.strip().split(\" \")\n",
    "        if raw_list[0] in dict_rare:\n",
    "            if raw_list[0].isdigit():\n",
    "                raw_list[0] = \"_DIGIT_\"\n",
    "            elif raw_list[0].isupper():\n",
    "                raw_list[0] = \"_UPPER_\"\n",
    "            elif raw_list[0].islower():\n",
    "                raw_list[0] = \"_LOWER_\"  \n",
    "            elif raw_list[0] in re.findall(pattern1, raw_list[0]):\n",
    "                raw_list[0] = \"_NUMERALVALUE_\" \n",
    "            else:\n",
    "                raw_list[0] = \"_RARE_\"\n",
    "            \n",
    "            \n",
    "        new_data.write(\" \".join(raw_list)+\"\\n\")\n",
    "'''elif raw_list[0].replace(\",\",\"\").replace(\"-\",\"\").isalpha():\n",
    "                raw_list[0] = \"_SPECIALSting_\"   '''\n",
    "\n",
    "if __name__==\"__main__\":\n",
    "    try:\n",
    "        file_content = open(\"ner.counts\",\"r\") \n",
    "    except IOError:\n",
    "        print \"no such file exists\"\n",
    "    train_old = \"ner_train.dat\"\n",
    "    train_new = \"ner_train_multi.dat\"\n",
    "    count_file = \"ner.counts\"\n",
    "    dict_rare = genDict(count_file,5)\n",
    "    replace_rare(train_old,train_new)\n",
    "    os.system(\"count_freqs.py  ner_train_multi.dat > ner_multi.counts\")"
   ]
  },
  {
   "cell_type": "code",
   "execution_count": 22,
   "metadata": {},
   "outputs": [
    {
     "name": "stdout",
     "output_type": "stream",
     "text": [
      "['1234', '5678']\n"
     ]
    }
   ],
   "source": [
    "\n",
    "'''elif raw_list[0] in re.findall(pattern1, raw_list[0]):\n",
    "                raw_list[0] = \"_NUMERALVALUE_\"     \n",
    "            elif raw_list[0].replace(\",\",\"\").replace(\"-\",\"\").isalpha():\n",
    "                raw_list[0] = \"_SPECIALSting_\"     '''\n",
    "'''a =\"ADKF1234ldk5678\" \n",
    "pattern = re.compile(r'\\d+')\n",
    "result1 = re.findall(pattern,a)\n",
    "print result1\n",
    "'''"
   ]
  },
  {
   "cell_type": "code",
   "execution_count": 23,
   "metadata": {},
   "outputs": [
    {
     "data": {
      "text/plain": [
       "False"
      ]
     },
     "execution_count": 23,
     "metadata": {},
     "output_type": "execute_result"
    }
   ],
   "source": [
    "'''a.isupper()'''"
   ]
  },
  {
   "cell_type": "code",
   "execution_count": 47,
   "metadata": {},
   "outputs": [
    {
     "data": {
      "text/plain": [
       "True"
      ]
     },
     "execution_count": 47,
     "metadata": {},
     "output_type": "execute_result"
    }
   ],
   "source": [
    "''''1234'.isdigit()'''"
   ]
  },
  {
   "cell_type": "code",
   "execution_count": 84,
   "metadata": {},
   "outputs": [
    {
     "name": "stdout",
     "output_type": "stream",
     "text": [
      "['1,123\",', '', '']\n"
     ]
    }
   ],
   "source": [
    "'''pattern = re.compile(r'\\b[\\d+]\\b')\n",
    "b = '1,123\",g2'\n",
    "pattern1 = r\"\\b[\\d\\.\\-\\\"\\'\\,\\?]*\\b\"\n",
    "result1 = re.findall(pattern1,b)\n",
    "print result1'''"
   ]
  }
 ],
 "metadata": {
  "kernelspec": {
   "display_name": "Python 2",
   "language": "python",
   "name": "python2"
  },
  "language_info": {
   "codemirror_mode": {
    "name": "ipython",
    "version": 2
   },
   "file_extension": ".py",
   "mimetype": "text/x-python",
   "name": "python",
   "nbconvert_exporter": "python",
   "pygments_lexer": "ipython2",
   "version": "2.7.15"
  }
 },
 "nbformat": 4,
 "nbformat_minor": 2
}
