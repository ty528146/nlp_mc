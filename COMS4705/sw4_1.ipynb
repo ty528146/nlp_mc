{
 "cells": [
  {
   "cell_type": "code",
   "execution_count": 1,
   "metadata": {},
   "outputs": [],
   "source": [
    "#!/usr/bin/python\n",
    "def readfile(file):\n",
    "    return open(file, \"r\")\n",
    "\n",
    "\n",
    "def emission(word, tag, file):\n",
    "    a = readfile(file)\n",
    "    numerator = 1\n",
    "    denominator = 0\n",
    "    for line in a:\n",
    "        if tag in line.split():\n",
    "            denominator += float(line.split(\" \")[0])\n",
    "        if word in line.split() and (\" \"+\"WORDTAG\"+\" \") in line:\n",
    "            numerator = float(line.split(\" \")[0])\n",
    "    return(numerator / denominator)\n",
    "\n",
    "def replacewords(f_count, f_raw, f_write):\n",
    "    b = readfile(f_count)\n",
    "    record = {}\n",
    "    for line in b:\n",
    "        if \"WORDTAG\" in line:\n",
    "            item = line.split(\" \")\n",
    "            # We need to see the whole dataset and determine how many times each word is occurring, \n",
    "            # irrespective of the tags. For example, 'Taipei' is occurring 5 times with tag 'I-LOC' and once with tag 'I-ORG'. \n",
    "            # This means it is occurring 6 times in the entire dataset, which means it is not an infrequent word. \n",
    "            if item[-1].strip(\"\\n\") in record:\n",
    "                record[item[-1].strip(\"\\n\")] += int(item[0])    \n",
    "            else:\n",
    "                record[item[-1].strip(\"\\n\")] = int(item[0])  \n",
    "    for key in record.copy():\n",
    "        if record[key]>=5:\n",
    "            del record[key]\n",
    "\n",
    "    raw = readfile(f_raw)\n",
    "    newfile = open(f_write, \"w\")\n",
    "    for row in raw:\n",
    "        segments = row.split(\" \")\n",
    "        if segments[0] in record:\n",
    "            segments[0] = \"_RARE_\"\n",
    "        newfile.write(\" \".join(segments))\n",
    "\n",
    "r1 = replacewords('ner.counts','ner_train.dat','ner_train_rare.dat')\n",
    "#a= emission('mind', 'O', 'ner.counts')\n",
    "#print(a)\n"
   ]
  },
  {
   "cell_type": "code",
   "execution_count": null,
   "metadata": {},
   "outputs": [],
   "source": []
  }
 ],
 "metadata": {
  "kernelspec": {
   "display_name": "Python 2",
   "language": "python",
   "name": "python2"
  },
  "language_info": {
   "codemirror_mode": {
    "name": "ipython",
    "version": 2
   },
   "file_extension": ".py",
   "mimetype": "text/x-python",
   "name": "python",
   "nbconvert_exporter": "python",
   "pygments_lexer": "ipython2",
   "version": "2.7.15"
  }
 },
 "nbformat": 4,
 "nbformat_minor": 2
}
